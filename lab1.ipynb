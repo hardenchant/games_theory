{
 "cells": [
  {
   "cell_type": "code",
   "execution_count": 5,
   "metadata": {},
   "outputs": [],
   "source": [
    "# https://www.coursera.org/lecture/matematicheskaya-teoria-igr/itierativnyi-mietod-rieshieniia-matrichnykh-ighr-sfgod"
   ]
  },
  {
   "cell_type": "code",
   "execution_count": 2,
   "metadata": {},
   "outputs": [],
   "source": [
    "import random\n",
    "\n",
    "import numpy as np\n",
    "import pandas as pd\n",
    "import matplotlib.pyplot as plt"
   ]
  },
  {
   "cell_type": "code",
   "execution_count": 3,
   "metadata": {},
   "outputs": [],
   "source": [
    "def analytic_solve(game_matrix):\n",
    "    \"\"\"\n",
    "    inverted matrix analytic solve method\n",
    "    :param game_matrix:\n",
    "    :return: x (A strategy), y (B strategy), v (value)\n",
    "    \"\"\"\n",
    "    m = len(game_matrix)\n",
    "    u = np.ones(m)\n",
    "    inv_game_matrix = np.linalg.inv(game_matrix)\n",
    "    Cinvu = np.dot(inv_game_matrix, u.transpose())\n",
    "    x = np.divide(\n",
    "        Cinvu,\n",
    "        np.dot(u, Cinvu)\n",
    "    )\n",
    "    uCinv = np.dot(u, inv_game_matrix)\n",
    "    uCinvuinv = np.dot(uCinv, u.transpose())\n",
    "    y = np.divide(\n",
    "        uCinv,\n",
    "        uCinvuinv\n",
    "    )\n",
    "\n",
    "    v = np.divide(1, uCinvuinv)\n",
    "    return x, y, v"
   ]
  },
  {
   "cell_type": "code",
   "execution_count": 12,
   "metadata": {},
   "outputs": [],
   "source": [
    "def brown_robinson_method(game_matrix: np.array, precision: float):\n",
    "    \"\"\"\n",
    "    Brown Robinson iteration method to find the solution of the antagonistic matrix game\n",
    "    :param game_matrix:\n",
    "    :param precision: target precision\n",
    "    :return: df, x (A strategy), y (B strategy), v (value)\n",
    "    \"\"\"\n",
    "    a_strategies_count = len(game_matrix)\n",
    "    b_strategies_count = len(game_matrix[0])\n",
    "    a_strategies_column_names = [f'x{i + 1}' for i in range(a_strategies_count)]\n",
    "    b_strategies_column_names = [f'y{i + 1}' for i in range(b_strategies_count)]\n",
    "\n",
    "    df = pd.DataFrame(columns=[\n",
    "        'A', 'B',\n",
    "        *a_strategies_column_names,\n",
    "        *b_strategies_column_names,\n",
    "        'v_up', 'v_down', 'eps'\n",
    "    ], dtype=np.int)\n",
    "\n",
    "    a_strategy = random.randint(0, a_strategies_count - 1)\n",
    "    b_strategy = random.randint(0, b_strategies_count - 1)\n",
    "\n",
    "    round_num = 1\n",
    "    v_up = game_matrix[:, a_strategy].max() / round_num\n",
    "    v_down = game_matrix[b_strategy].min() / round_num\n",
    "    eps = v_up - v_down\n",
    "    df.loc[round_num] = [\n",
    "        f\"x{a_strategy + 1}\",\n",
    "        f\"y{b_strategy + 1}\",\n",
    "        *game_matrix[:, b_strategy],\n",
    "        *game_matrix[a_strategy],\n",
    "        v_up,\n",
    "        v_down,\n",
    "        eps\n",
    "    ]\n",
    "\n",
    "    a_strategies_pos_start = 2\n",
    "    a_strategies_pos_stop = a_strategies_pos_start + a_strategies_count\n",
    "\n",
    "    b_strategies_pos_start = a_strategies_pos_stop\n",
    "    b_strategies_pos_stop = a_strategies_pos_stop + b_strategies_count\n",
    "\n",
    "    while eps > precision:\n",
    "        round_num += 1\n",
    "\n",
    "        prev_round_a = pd.DataFrame(df.loc[round_num - 1][a_strategies_pos_start: a_strategies_pos_stop], dtype=np.int)\n",
    "        prev_round_b = pd.DataFrame(df.loc[round_num - 1][b_strategies_pos_start: b_strategies_pos_stop], dtype=np.int)\n",
    "\n",
    "        # name of column with minimal value in A/B strategies range\n",
    "        a_new_strategy_str = prev_round_a.idxmax().iloc[0]\n",
    "        b_new_strategy_str = prev_round_b.idxmin().iloc[0]\n",
    "\n",
    "        a_strategy = int(a_new_strategy_str[1:]) - 1\n",
    "        b_strategy = int(b_new_strategy_str[1:]) - 1\n",
    "\n",
    "        round_a = game_matrix[:, b_strategy] + prev_round_a.T\n",
    "        round_b = game_matrix[a_strategy] + prev_round_b.T\n",
    "        v_up = round_a.max(axis=1).iloc[0] / round_num\n",
    "        v_down = round_b.min(axis=1).iloc[0] / round_num\n",
    "\n",
    "        df.loc[round_num] = [\n",
    "            a_new_strategy_str,\n",
    "            b_new_strategy_str,\n",
    "            *round_a.iloc[0].T,\n",
    "            *round_b.iloc[0].T,\n",
    "            v_up,\n",
    "            v_down,\n",
    "            None\n",
    "        ]\n",
    "\n",
    "        eps = float(df[['v_up']].min()) - float(df[['v_down']].max())\n",
    "        df.at[round_num, 'eps'] = eps\n",
    "    \n",
    "    xx = (df['A'].value_counts() / round_num).sort_index()\n",
    "    yy = (df['B'].value_counts() / round_num).sort_index()\n",
    "    vv = (df['v_down'].max() + df['v_up'].min()) / 2\n",
    "    \n",
    "    x = [xx.get(col_name, 0) for col_name in a_strategies_column_names]\n",
    "    y = [yy.get(col_name, 0) for col_name in b_strategies_column_names]\n",
    "\n",
    "    return df, x, y, vv"
   ]
  },
  {
   "cell_type": "code",
   "execution_count": 16,
   "metadata": {},
   "outputs": [],
   "source": [
    "game_matrix = np.array(\n",
    "    [\n",
    "        [18, 13, 15],\n",
    "        [0, 13, 16],\n",
    "        [1, 17, 9],\n",
    "    ]\n",
    ")\n",
    "precision = 1 / 10"
   ]
  },
  {
   "cell_type": "code",
   "execution_count": 17,
   "metadata": {},
   "outputs": [
    {
     "name": "stdout",
     "output_type": "stream",
     "text": [
      "Analytic inverse matrix method:\n",
      "x* - A mixed strategy\n",
      "y* - B mixed strategy\n",
      "x* = [0.0199005  0.62189055 0.35820896]; y* = [0.75621891 0.039801   0.2039801 ]; value = 13.81592039800995\n"
     ]
    }
   ],
   "source": [
    "x, y, v = analytic_solve(game_matrix)\n",
    "print(\"Analytic inverse matrix method:\")\n",
    "print(\"x* - A mixed strategy\")\n",
    "print(\"y* - B mixed strategy\")\n",
    "print(f\"x* = {x}; y* = {y}; value = {v}\")"
   ]
  },
  {
   "cell_type": "code",
   "execution_count": 18,
   "metadata": {},
   "outputs": [
    {
     "name": "stdout",
     "output_type": "stream",
     "text": [
      "Iteration method:\n",
      "x* - A mixed strategy\n",
      "y* - B mixed strategy\n",
      "     A   B   x1   x2   x3   y1   y2   y3       v_up     v_down        eps\n",
      "1   x1  y2   13   13   17   18   13   15  18.000000   0.000000         18\n",
      "2   x3  y2   26   26   34   19   30   24  17.000000   9.500000        7.5\n",
      "3   x3  y1   44   26   35   20   47   33  14.666667   6.666667    5.16667\n",
      "4   x1  y1   62   26   36   38   60   48  15.500000   9.500000    5.16667\n",
      "5   x1  y1   80   26   37   56   73   63  16.000000  11.200000    3.46667\n",
      "6   x1  y1   98   26   38   74   86   78  16.333333  12.333333    2.33333\n",
      "7   x1  y1  116   26   39   92   99   93  16.571429  13.142857    1.52381\n",
      "8   x1  y1  134   26   40  110  112  108  16.750000  13.500000    1.16667\n",
      "9   x1  y3  149   42   49  128  125  123  16.555556  13.666667          1\n",
      "10  x1  y3  164   58   58  146  138  138  16.400000  13.800000   0.866667\n",
      "11  x1  y2  177   71   75  164  151  153  16.090909  13.727273   0.866667\n",
      "12  x1  y2  190   84   92  182  164  168  15.833333  13.666667   0.866667\n",
      "13  x1  y2  203   97  109  200  177  183  15.615385  13.615385   0.866667\n",
      "14  x1  y2  216  110  126  218  190  198  15.428571  13.571429   0.866667\n",
      "15  x1  y2  229  123  143  236  203  213  15.266667  13.533333   0.866667\n",
      "16  x1  y2  242  136  160  254  216  228  15.125000  13.500000   0.866667\n",
      "17  x1  y2  255  149  177  272  229  243  15.000000  13.470588   0.866667\n",
      "18  x1  y2  268  162  194  290  242  258  14.888889  13.444444   0.866667\n",
      "19  x1  y2  281  175  211  308  255  273  14.789474  13.421053   0.866667\n",
      "20  x1  y2  294  188  228  326  268  288  14.700000  13.400000   0.866667\n",
      "21  x1  y2  307  201  245  344  281  303  14.619048  13.380952   0.819048\n",
      "22  x1  y2  320  214  262  362  294  318  14.545455  13.363636   0.745455\n",
      "23  x1  y2  333  227  279  380  307  333  14.478261  13.347826   0.678261\n",
      "24  x1  y2  346  240  296  398  320  348  14.416667  13.333333   0.616667\n",
      "25  x1  y2  359  253  313  416  333  363  14.360000  13.320000       0.56\n",
      "26  x1  y2  372  266  330  434  346  378  14.307692  13.307692   0.507692\n",
      "27  x1  y2  385  279  347  452  359  393  14.259259  13.296296   0.459259\n",
      "28  x1  y2  398  292  364  470  372  408  14.214286  13.285714   0.414286\n",
      "29  x1  y2  411  305  381  488  385  423  14.172414  13.275862   0.372414\n",
      "30  x1  y2  424  318  398  506  398  438  14.133333  13.266667   0.333333\n",
      "31  x1  y2  437  331  415  524  411  453  14.096774  13.258065   0.296774\n",
      "32  x1  y2  450  344  432  542  424  468  14.062500  13.250000     0.2625\n",
      "33  x1  y2  463  357  449  560  437  483  14.030303  13.242424   0.230303\n",
      "34  x1  y2  476  370  466  578  450  498  14.000000  13.235294        0.2\n",
      "35  x1  y2  489  383  483  596  463  513  13.971429  13.228571   0.171429\n",
      "36  x1  y2  502  396  500  614  476  528  13.944444  13.222222   0.144444\n",
      "37  x1  y2  515  409  517  632  489  543  13.972973  13.216216   0.144444\n",
      "38  x3  y2  528  422  534  633  506  552  14.052632  13.315789   0.144444\n",
      "39  x3  y2  541  435  551  634  523  561  14.128205  13.410256   0.144444\n",
      "40  x3  y2  554  448  568  635  540  570  14.200000  13.500000   0.144444\n",
      "41  x3  y2  567  461  585  636  557  579  14.268293  13.585366   0.144444\n",
      "42  x3  y2  580  474  602  637  574  588  14.333333  13.666667   0.144444\n",
      "43  x3  y2  593  487  619  638  591  597  14.395349  13.744186   0.144444\n",
      "44  x3  y2  606  500  636  639  608  606  14.454545  13.772727   0.144444\n",
      "45  x3  y3  621  516  645  640  625  615  14.333333  13.666667   0.144444\n",
      "46  x3  y3  636  532  654  641  642  624  14.217391  13.565217   0.144444\n",
      "47  x3  y3  651  548  663  642  659  633  14.106383  13.468085   0.144444\n",
      "48  x3  y3  666  564  672  643  676  642  14.000000  13.375000   0.144444\n",
      "49  x3  y3  681  580  681  644  693  651  13.897959  13.142857  0.0979592\n",
      "x* = [0.7142857142857143, 0, 0.2857142857142857]; y* = [0.12244897959183673, 0.7346938775510204, 0.14285714285714285]; value = 13.848979591836734\n"
     ]
    }
   ],
   "source": [
    "df, xx, yy, vv = brown_robinson_method(game_matrix, precision)\n",
    "\n",
    "print(\"Iteration method:\")\n",
    "print(\"x* - A mixed strategy\")\n",
    "print(\"y* - B mixed strategy\")\n",
    "print(df)\n",
    "print(f\"x* = {xx}; y* = {yy}; value = {float(vv)}\")"
   ]
  },
  {
   "cell_type": "code",
   "execution_count": 19,
   "metadata": {},
   "outputs": [
    {
     "data": {
      "image/png": "[encoded data removed]",
      "text/plain": [
       "<Figure size 432x288 with 1 Axes>"
      ]
     },
     "metadata": {
      "needs_background": "light"
     },
     "output_type": "display_data"
    }
   ],
   "source": [
    "ax = plt.gca()\n",
    "df.reset_index().plot(kind='line', x='index', y='eps', ax=ax)\n",
    "plt.show()"
   ]
  },
  {
   "cell_type": "code",
   "execution_count": 20,
   "metadata": {},
   "outputs": [
    {
     "data": {
      "image/png": "[encoded data removed]",
      "text/plain": [
       "<Figure size 432x288 with 1 Axes>"
      ]
     },
     "metadata": {
      "needs_background": "light"
     },
     "output_type": "display_data"
    }
   ],
   "source": [
    "ax = plt.gca()\n",
    "df.reset_index().plot(kind='line', x='index', y='v_up', ax=ax)\n",
    "df.reset_index().plot(kind='line', x='index', y='v_down', ax=ax)\n",
    "plt.show()"
   ]
  },
  {
   "cell_type": "code",
   "execution_count": null,
   "metadata": {},
   "outputs": [],
   "source": []
  }
 ],
 "metadata": {
  "kernelspec": {
   "display_name": "Python 3",
   "language": "python",
   "name": "python3"
  },
  "language_info": {
   "codemirror_mode": {
    "name": "ipython",
    "version": 3
   },
   "file_extension": ".py",
   "mimetype": "text/x-python",
   "name": "python",
   "nbconvert_exporter": "python",
   "pygments_lexer": "ipython3",
   "version": "3.7.6"
  }
 },
 "nbformat": 4,
 "nbformat_minor": 4
}
