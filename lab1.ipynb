{
 "cells": [
  {
   "cell_type": "code",
   "execution_count": 5,
   "metadata": {},
   "outputs": [],
   "source": [
    "# https://www.coursera.org/lecture/matematicheskaya-teoria-igr/itierativnyi-mietod-rieshieniia-matrichnykh-ighr-sfgod"
   ]
  },
  {
   "cell_type": "code",
   "execution_count": 6,
   "metadata": {},
   "outputs": [],
   "source": [
    "import random\n",
    "\n",
    "import numpy as np\n",
    "import pandas as pd\n",
    "import matplotlib.pyplot as plt"
   ]
  },
  {
   "cell_type": "code",
   "execution_count": 7,
   "metadata": {},
   "outputs": [],
   "source": [
    "def analytic_solve(game_matrix):\n",
    "    \"\"\"\n",
    "    inverted matrix analytic solve method\n",
    "    :param game_matrix:\n",
    "    :return: x (A strategy), y (B strategy), v (value)\n",
    "    \"\"\"\n",
    "    m = len(game_matrix)\n",
    "    u = np.ones(m)\n",
    "    inv_game_matrix = np.linalg.inv(game_matrix)\n",
    "    Cinvu = np.dot(inv_game_matrix, u.transpose())\n",
    "    x = np.divide(\n",
    "        Cinvu,\n",
    "        np.dot(u, Cinvu)\n",
    "    )\n",
    "    uCinv = np.dot(u, inv_game_matrix)\n",
    "    uCinvuinv = np.dot(uCinv, u.transpose())\n",
    "    y = np.divide(\n",
    "        uCinv,\n",
    "        uCinvuinv\n",
    "    )\n",
    "\n",
    "    v = np.divide(1, uCinvuinv)\n",
    "    return x, y, v"
   ]
  },
  {
   "cell_type": "code",
   "execution_count": 8,
   "metadata": {},
   "outputs": [],
   "source": [
    "def brown_robinson_method(game_matrix: np.array, precision):\n",
    "    \"\"\"\n",
    "    Brown Robinson iteration method to find the solution of the antagonistic matrix game\n",
    "    :param game_matrix:\n",
    "    :param precision: target precision\n",
    "    :return: df, step_count, value_of_game - strategy of 1 and 2 players and value of game\n",
    "    \"\"\"\n",
    "    a_strategies_count = len(game_matrix)\n",
    "    b_strategies_count = len(game_matrix[0])\n",
    "\n",
    "    df = pd.DataFrame(columns=[\n",
    "        'A', 'B',\n",
    "        *[f'x{i + 1}' for i in range(a_strategies_count)],\n",
    "        *[f'y{i + 1}' for i in range(b_strategies_count)],\n",
    "        'v_up', 'v_down', 'eps'\n",
    "    ], dtype=np.int)\n",
    "\n",
    "    a_strategy = random.randint(0, a_strategies_count - 1)\n",
    "    b_strategy = random.randint(0, b_strategies_count - 1)\n",
    "\n",
    "    round_num = 1\n",
    "    v_up = game_matrix[:, a_strategy].max() / round_num\n",
    "    v_down = game_matrix[b_strategy].min() / round_num\n",
    "    eps = v_up - v_down\n",
    "    df.loc[round_num] = [\n",
    "        f\"x{a_strategy + 1}\",\n",
    "        f\"y{b_strategy + 1}\",\n",
    "        *game_matrix[:, a_strategy],\n",
    "        *game_matrix[b_strategy],\n",
    "        v_up,\n",
    "        v_down,\n",
    "        eps\n",
    "    ]\n",
    "\n",
    "    a_strategies_pos_start = 2\n",
    "    a_strategies_pos_stop = a_strategies_pos_start + a_strategies_count\n",
    "\n",
    "    b_strategies_pos_start = a_strategies_pos_stop\n",
    "    b_strategies_pos_stop = a_strategies_pos_stop + b_strategies_count\n",
    "\n",
    "    while eps > precision:\n",
    "        round_num += 1\n",
    "\n",
    "        prev_round_a = pd.DataFrame(df.loc[round_num - 1][a_strategies_pos_start: a_strategies_pos_stop], dtype=np.int)\n",
    "        prev_round_b = pd.DataFrame(df.loc[round_num - 1][b_strategies_pos_start: b_strategies_pos_stop], dtype=np.int)\n",
    "\n",
    "        # name of column with minimal value in A/B strategies range\n",
    "        a_new_strategy_str = prev_round_a.idxmax().iloc[0]\n",
    "        b_new_strategy_str = prev_round_b.idxmin().iloc[0]\n",
    "\n",
    "        a_strategy = int(a_new_strategy_str[1:]) - 1\n",
    "        b_strategy = int(b_new_strategy_str[1:]) - 1\n",
    "\n",
    "        round_a = game_matrix[:, b_strategy] + prev_round_a.T\n",
    "        round_b = game_matrix[a_strategy] + prev_round_b.T\n",
    "        v_up = round_a.max(axis=1).iloc[0] / round_num\n",
    "        v_down = round_b.min(axis=1).iloc[0] / round_num\n",
    "\n",
    "        df.loc[round_num] = [\n",
    "            a_new_strategy_str,\n",
    "            b_new_strategy_str,\n",
    "            *round_a.iloc[0].T,\n",
    "            *round_b.iloc[0].T,\n",
    "            v_up,\n",
    "            v_down,\n",
    "            None\n",
    "        ]\n",
    "\n",
    "        eps = float(df[['v_up']].min()) - float(df[['v_down']].max())\n",
    "        df.at[round_num, 'eps'] = eps\n",
    "\n",
    "    return df, round_num"
   ]
  },
  {
   "cell_type": "code",
   "execution_count": 15,
   "metadata": {},
   "outputs": [],
   "source": [
    "game_matrix = np.array(\n",
    "    [\n",
    "        [18, 13, 15],\n",
    "        [0, 13, 16],\n",
    "        [1, 17, 9],\n",
    "    ]\n",
    ")\n",
    "precision = 1 / 10"
   ]
  },
  {
   "cell_type": "code",
   "execution_count": 16,
   "metadata": {},
   "outputs": [
    {
     "name": "stdout",
     "output_type": "stream",
     "text": [
      "Analytic inverse matrix method:\n",
      "x* - A mixed strategy\n",
      "y* - B mixed strategy\n",
      "x* = [0.0199005  0.62189055 0.35820896]; y* = [0.75621891 0.039801   0.2039801 ]; value = 13.81592039800995\n"
     ]
    }
   ],
   "source": [
    "x, y, v = analytic_solve(game_matrix)\n",
    "print(\"Analytic inverse matrix method:\")\n",
    "print(\"x* - A mixed strategy\")\n",
    "print(\"y* - B mixed strategy\")\n",
    "print(f\"x* = {x}; y* = {y}; value = {v}\")"
   ]
  },
  {
   "cell_type": "code",
   "execution_count": 18,
   "metadata": {},
   "outputs": [
    {
     "name": "stdout",
     "output_type": "stream",
     "text": [
      "Iteration method:\n",
      "x* - A mixed strategy\n",
      "y* - B mixed strategy\n",
      "     A   B    x1    x2    x3    y1    y2    y3       v_up     v_down  \\\n",
      "1   x1  y3    18     0     1     1    17     9  18.000000   1.000000   \n",
      "2   x1  y1    36     0     2    19    30    24  18.000000   9.500000   \n",
      "3   x1  y1    54     0     3    37    43    39  18.000000  12.333333   \n",
      "4   x1  y1    72     0     4    55    56    54  18.000000  13.500000   \n",
      "5   x1  y3    87    16    13    73    69    69  17.400000  13.800000   \n",
      "..  ..  ..   ...   ...   ...   ...   ...   ...        ...        ...   \n",
      "84  x1  y2  1171  1026  1148  1342  1132  1200  13.940476  13.476190   \n",
      "85  x1  y2  1184  1039  1165  1360  1145  1215  13.929412  13.470588   \n",
      "86  x1  y2  1197  1052  1182  1378  1158  1230  13.918605  13.465116   \n",
      "87  x1  y2  1210  1065  1199  1396  1171  1245  13.908046  13.459770   \n",
      "88  x1  y2  1223  1078  1216  1414  1184  1260  13.897727  13.454545   \n",
      "\n",
      "          eps  \n",
      "1          17  \n",
      "2         8.5  \n",
      "3     5.66667  \n",
      "4         4.5  \n",
      "5         3.6  \n",
      "..        ...  \n",
      "84   0.140476  \n",
      "85   0.129412  \n",
      "86   0.118605  \n",
      "87   0.108046  \n",
      "88  0.0977273  \n",
      "\n",
      "[88 rows x 11 columns]\n",
      "x*:\n",
      "x1    0.897727\n",
      "x3    0.102273\n",
      "Name: A, dtype: float64;\n",
      " y*:\n",
      "y1    0.090909\n",
      "y2    0.704545\n",
      "y3    0.204545\n",
      "Name: B, dtype: float64;\n",
      "value = 13.848863636363637\n"
     ]
    }
   ],
   "source": [
    "df, step_count = brown_robinson_method(game_matrix, precision)\n",
    "xx = (df['A'].value_counts() / step_count).sort_index()\n",
    "yy = (df['B'].value_counts() / step_count).sort_index()\n",
    "vv = (df['v_down'].max() + df['v_up'].min()) / 2\n",
    "\n",
    "print(\"Iteration method:\")\n",
    "print(\"x* - A mixed strategy\")\n",
    "print(\"y* - B mixed strategy\")\n",
    "print(df)\n",
    "print(f\"x*:\\n{xx};\\n y*:\\n{yy};\\nvalue = {float(vv)}\")"
   ]
  },
  {
   "cell_type": "code",
   "execution_count": 19,
   "metadata": {},
   "outputs": [
    {
     "data": {
      "image/png": "[encoded data removed]",
      "text/plain": [
       "<Figure size 432x288 with 1 Axes>"
      ]
     },
     "metadata": {
      "needs_background": "light"
     },
     "output_type": "display_data"
    }
   ],
   "source": [
    "ax = plt.gca()\n",
    "df.reset_index().plot(kind='line', x='index', y='eps', ax=ax)\n",
    "plt.show()"
   ]
  },
  {
   "cell_type": "code",
   "execution_count": 20,
   "metadata": {},
   "outputs": [
    {
     "data": {
      "image/png": "[encoded data removed]",
      "text/plain": [
       "<Figure size 432x288 with 1 Axes>"
      ]
     },
     "metadata": {
      "needs_background": "light"
     },
     "output_type": "display_data"
    }
   ],
   "source": [
    "ax = plt.gca()\n",
    "df.reset_index().plot(kind='line', x='index', y='v_up', ax=ax)\n",
    "df.reset_index().plot(kind='line', x='index', y='v_down', ax=ax)\n",
    "plt.show()"
   ]
  },
  {
   "cell_type": "code",
   "execution_count": null,
   "metadata": {},
   "outputs": [],
   "source": []
  }
 ],
 "metadata": {
  "kernelspec": {
   "display_name": "Python 3",
   "language": "python",
   "name": "python3"
  },
  "language_info": {
   "codemirror_mode": {
    "name": "ipython",
    "version": 3
   },
   "file_extension": ".py",
   "mimetype": "text/x-python",
   "name": "python",
   "nbconvert_exporter": "python",
   "pygments_lexer": "ipython3",
   "version": "3.7.6"
  }
 },
 "nbformat": 4,
 "nbformat_minor": 4
}
